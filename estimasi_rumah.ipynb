{
 "cells": [
  {
   "cell_type": "code",
   "execution_count": 1,
   "metadata": {},
   "outputs": [],
   "source": [
    "import pandas as pd\n",
    "import numpy as np\n",
    "import matplotlib.pyplot as plt\n",
    "import seaborn as sns"
   ]
  },
  {
   "cell_type": "code",
   "execution_count": 3,
   "metadata": {},
   "outputs": [],
   "source": [
    "df1 = pd.read_csv('Dataset_Harga_Rumah.csv')"
   ]
  },
  {
   "cell_type": "code",
   "execution_count": 5,
   "metadata": {},
   "outputs": [
    {
     "data": {
      "text/html": [
       "<div>\n",
       "<style scoped>\n",
       "    .dataframe tbody tr th:only-of-type {\n",
       "        vertical-align: middle;\n",
       "    }\n",
       "\n",
       "    .dataframe tbody tr th {\n",
       "        vertical-align: top;\n",
       "    }\n",
       "\n",
       "    .dataframe thead th {\n",
       "        text-align: right;\n",
       "    }\n",
       "</style>\n",
       "<table border=\"1\" class=\"dataframe\">\n",
       "  <thead>\n",
       "    <tr style=\"text-align: right;\">\n",
       "      <th></th>\n",
       "      <th>no</th>\n",
       "      <th>transaction_date</th>\n",
       "      <th>house_age</th>\n",
       "      <th>distance_to_MRT</th>\n",
       "      <th>number_cs</th>\n",
       "      <th>latitude</th>\n",
       "      <th>longitude</th>\n",
       "      <th>house_price</th>\n",
       "    </tr>\n",
       "  </thead>\n",
       "  <tbody>\n",
       "    <tr>\n",
       "      <th>0</th>\n",
       "      <td>1</td>\n",
       "      <td>1112012</td>\n",
       "      <td>32.0</td>\n",
       "      <td>84.88</td>\n",
       "      <td>10.0</td>\n",
       "      <td>24.98</td>\n",
       "      <td>121.54</td>\n",
       "      <td>379000000</td>\n",
       "    </tr>\n",
       "    <tr>\n",
       "      <th>1</th>\n",
       "      <td>2</td>\n",
       "      <td>1112012</td>\n",
       "      <td>19.5</td>\n",
       "      <td>306.59</td>\n",
       "      <td>9.0</td>\n",
       "      <td>24.98</td>\n",
       "      <td>121.54</td>\n",
       "      <td>422000000</td>\n",
       "    </tr>\n",
       "    <tr>\n",
       "      <th>2</th>\n",
       "      <td>3</td>\n",
       "      <td>1062013</td>\n",
       "      <td>13.3</td>\n",
       "      <td>561.98</td>\n",
       "      <td>5.0</td>\n",
       "      <td>24.99</td>\n",
       "      <td>121.54</td>\n",
       "      <td>473000000</td>\n",
       "    </tr>\n",
       "    <tr>\n",
       "      <th>3</th>\n",
       "      <td>4</td>\n",
       "      <td>1062013</td>\n",
       "      <td>13.3</td>\n",
       "      <td>561.98</td>\n",
       "      <td>5.0</td>\n",
       "      <td>24.99</td>\n",
       "      <td>121.54</td>\n",
       "      <td>548000000</td>\n",
       "    </tr>\n",
       "    <tr>\n",
       "      <th>4</th>\n",
       "      <td>5</td>\n",
       "      <td>1092012</td>\n",
       "      <td>5.0</td>\n",
       "      <td>390.57</td>\n",
       "      <td>5.0</td>\n",
       "      <td>24.98</td>\n",
       "      <td>121.54</td>\n",
       "      <td>431000000</td>\n",
       "    </tr>\n",
       "  </tbody>\n",
       "</table>\n",
       "</div>"
      ],
      "text/plain": [
       "   no  transaction_date  house_age  distance_to_MRT  number_cs  latitude  \\\n",
       "0   1           1112012       32.0            84.88       10.0     24.98   \n",
       "1   2           1112012       19.5           306.59        9.0     24.98   \n",
       "2   3           1062013       13.3           561.98        5.0     24.99   \n",
       "3   4           1062013       13.3           561.98        5.0     24.99   \n",
       "4   5           1092012        5.0           390.57        5.0     24.98   \n",
       "\n",
       "   longitude  house_price  \n",
       "0     121.54    379000000  \n",
       "1     121.54    422000000  \n",
       "2     121.54    473000000  \n",
       "3     121.54    548000000  \n",
       "4     121.54    431000000  "
      ]
     },
     "execution_count": 5,
     "metadata": {},
     "output_type": "execute_result"
    }
   ],
   "source": [
    "df1.head()"
   ]
  },
  {
   "cell_type": "code",
   "execution_count": 4,
   "metadata": {},
   "outputs": [
    {
     "data": {
      "text/html": [
       "<div>\n",
       "<style scoped>\n",
       "    .dataframe tbody tr th:only-of-type {\n",
       "        vertical-align: middle;\n",
       "    }\n",
       "\n",
       "    .dataframe tbody tr th {\n",
       "        vertical-align: top;\n",
       "    }\n",
       "\n",
       "    .dataframe thead th {\n",
       "        text-align: right;\n",
       "    }\n",
       "</style>\n",
       "<table border=\"1\" class=\"dataframe\">\n",
       "  <thead>\n",
       "    <tr style=\"text-align: right;\">\n",
       "      <th></th>\n",
       "      <th>no</th>\n",
       "      <th>transaction_date</th>\n",
       "      <th>house_age</th>\n",
       "      <th>distance_to_MRT</th>\n",
       "      <th>number_cs</th>\n",
       "      <th>latitude</th>\n",
       "      <th>longitude</th>\n",
       "      <th>house_price</th>\n",
       "    </tr>\n",
       "  </thead>\n",
       "  <tbody>\n",
       "    <tr>\n",
       "      <th>count</th>\n",
       "      <td>413.000000</td>\n",
       "      <td>4.130000e+02</td>\n",
       "      <td>413.000000</td>\n",
       "      <td>413.000000</td>\n",
       "      <td>413.000000</td>\n",
       "      <td>413.000000</td>\n",
       "      <td>413.000000</td>\n",
       "      <td>4.130000e+02</td>\n",
       "    </tr>\n",
       "    <tr>\n",
       "      <th>mean</th>\n",
       "      <td>207.000000</td>\n",
       "      <td>1.074845e+06</td>\n",
       "      <td>17.719613</td>\n",
       "      <td>1085.558063</td>\n",
       "      <td>4.089588</td>\n",
       "      <td>24.968692</td>\n",
       "      <td>121.532712</td>\n",
       "      <td>3.805375e+08</td>\n",
       "    </tr>\n",
       "    <tr>\n",
       "      <th>std</th>\n",
       "      <td>119.367081</td>\n",
       "      <td>3.331860e+04</td>\n",
       "      <td>11.405397</td>\n",
       "      <td>1263.181831</td>\n",
       "      <td>2.947636</td>\n",
       "      <td>0.012875</td>\n",
       "      <td>0.015545</td>\n",
       "      <td>1.354032e+08</td>\n",
       "    </tr>\n",
       "    <tr>\n",
       "      <th>min</th>\n",
       "      <td>1.000000</td>\n",
       "      <td>1.022013e+06</td>\n",
       "      <td>0.000000</td>\n",
       "      <td>23.380000</td>\n",
       "      <td>0.000000</td>\n",
       "      <td>24.930000</td>\n",
       "      <td>121.470000</td>\n",
       "      <td>1.120000e+08</td>\n",
       "    </tr>\n",
       "    <tr>\n",
       "      <th>25%</th>\n",
       "      <td>104.000000</td>\n",
       "      <td>1.052013e+06</td>\n",
       "      <td>9.000000</td>\n",
       "      <td>289.320000</td>\n",
       "      <td>1.000000</td>\n",
       "      <td>24.960000</td>\n",
       "      <td>121.530000</td>\n",
       "      <td>2.770000e+08</td>\n",
       "    </tr>\n",
       "    <tr>\n",
       "      <th>50%</th>\n",
       "      <td>207.000000</td>\n",
       "      <td>1.062013e+06</td>\n",
       "      <td>16.100000</td>\n",
       "      <td>492.230000</td>\n",
       "      <td>4.000000</td>\n",
       "      <td>24.970000</td>\n",
       "      <td>121.540000</td>\n",
       "      <td>3.850000e+08</td>\n",
       "    </tr>\n",
       "    <tr>\n",
       "      <th>75%</th>\n",
       "      <td>310.000000</td>\n",
       "      <td>1.112012e+06</td>\n",
       "      <td>28.200000</td>\n",
       "      <td>1455.800000</td>\n",
       "      <td>6.000000</td>\n",
       "      <td>24.980000</td>\n",
       "      <td>121.540000</td>\n",
       "      <td>4.660000e+08</td>\n",
       "    </tr>\n",
       "    <tr>\n",
       "      <th>max</th>\n",
       "      <td>413.000000</td>\n",
       "      <td>1.122012e+06</td>\n",
       "      <td>43.800000</td>\n",
       "      <td>6488.020000</td>\n",
       "      <td>10.000000</td>\n",
       "      <td>25.010000</td>\n",
       "      <td>121.570000</td>\n",
       "      <td>1.175000e+09</td>\n",
       "    </tr>\n",
       "  </tbody>\n",
       "</table>\n",
       "</div>"
      ],
      "text/plain": [
       "               no  transaction_date   house_age  distance_to_MRT   number_cs  \\\n",
       "count  413.000000      4.130000e+02  413.000000       413.000000  413.000000   \n",
       "mean   207.000000      1.074845e+06   17.719613      1085.558063    4.089588   \n",
       "std    119.367081      3.331860e+04   11.405397      1263.181831    2.947636   \n",
       "min      1.000000      1.022013e+06    0.000000        23.380000    0.000000   \n",
       "25%    104.000000      1.052013e+06    9.000000       289.320000    1.000000   \n",
       "50%    207.000000      1.062013e+06   16.100000       492.230000    4.000000   \n",
       "75%    310.000000      1.112012e+06   28.200000      1455.800000    6.000000   \n",
       "max    413.000000      1.122012e+06   43.800000      6488.020000   10.000000   \n",
       "\n",
       "         latitude   longitude   house_price  \n",
       "count  413.000000  413.000000  4.130000e+02  \n",
       "mean    24.968692  121.532712  3.805375e+08  \n",
       "std      0.012875    0.015545  1.354032e+08  \n",
       "min     24.930000  121.470000  1.120000e+08  \n",
       "25%     24.960000  121.530000  2.770000e+08  \n",
       "50%     24.970000  121.540000  3.850000e+08  \n",
       "75%     24.980000  121.540000  4.660000e+08  \n",
       "max     25.010000  121.570000  1.175000e+09  "
      ]
     },
     "execution_count": 4,
     "metadata": {},
     "output_type": "execute_result"
    }
   ],
   "source": [
    "df1.describe()"
   ]
  },
  {
   "cell_type": "code",
   "execution_count": 6,
   "metadata": {},
   "outputs": [
    {
     "data": {
      "text/plain": [
       "((413, 5), (413,))"
      ]
     },
     "execution_count": 6,
     "metadata": {},
     "output_type": "execute_result"
    }
   ],
   "source": [
    "features = ['house_age','distance_to_MRT','number_cs','latitude','longitude']\n",
    "X = df1[features]\n",
    "Y = df1['house_price']\n",
    "X.shape, Y.shape"
   ]
  },
  {
   "cell_type": "code",
   "execution_count": 7,
   "metadata": {},
   "outputs": [
    {
     "data": {
      "text/plain": [
       "((83, 5), (83,))"
      ]
     },
     "execution_count": 7,
     "metadata": {},
     "output_type": "execute_result"
    }
   ],
   "source": [
    "import sklearn.model_selection as ms\n",
    "X_train, X_test, Y_train, Y_test = ms.train_test_split(X,Y, test_size = 0.2)\n",
    "\n",
    "X_test.shape, Y_test.shape"
   ]
  },
  {
   "cell_type": "code",
   "execution_count": 8,
   "metadata": {},
   "outputs": [
    {
     "name": "stdout",
     "output_type": "stream",
     "text": [
      "[4.65672468e+08 4.85106254e+08 2.93731282e+08 4.59098744e+08\n",
      " 2.45363653e+08 3.17340880e+08 4.35989402e+08 3.41303020e+08\n",
      " 2.99987193e+08 3.98618246e+08 3.39885891e+08 5.14863018e+08\n",
      " 3.18032768e+08 4.43198088e+08 3.22849556e+08 3.03085982e+08\n",
      " 5.24295742e+08 1.45031457e+08 3.04335701e+08 3.99652434e+08\n",
      " 1.52627470e+08 2.79455963e+08 3.82898702e+08 4.24640470e+08\n",
      " 4.58282631e+08 2.94509514e+08 4.61209096e+08 3.23783822e+08\n",
      " 3.48775033e+08 4.25897187e+08 3.96934180e+08 4.77827722e+08\n",
      " 3.48454709e+08 4.44256013e+08 3.77185478e+08 4.96134872e+08\n",
      " 5.00454313e+08 4.40867839e+08 4.54580395e+08 3.04251221e+08\n",
      " 2.93003859e+08 3.99106679e+08 3.96930347e+08 4.46062014e+08\n",
      " 4.26035113e+08 4.67638990e+08 3.13582635e+08 1.45031457e+08\n",
      " 4.28605028e+08 4.72334670e+08 3.94986693e+08 4.92937077e+08\n",
      " 5.22612647e+08 4.23008244e+08 4.40754605e+08 4.26163239e+08\n",
      " 4.71169094e+08 4.60043359e+08 4.97701544e+08 1.22479352e+08\n",
      " 4.57738556e+08 3.66118334e+08 7.55461128e+07 4.25176732e+08\n",
      " 4.80212282e+08 4.57738556e+08 4.93209115e+08 4.92937077e+08\n",
      " 4.68992793e+08 4.65331345e+08 3.64424552e+08 4.34085139e+08\n",
      " 4.86945379e+08 4.59771321e+08 3.74812698e+08 3.90483426e+08\n",
      " 2.95221834e+08 4.12132889e+08 4.68452426e+08 5.20164308e+08\n",
      " 2.46451804e+08 4.58554669e+08 4.18902326e+08]\n"
     ]
    }
   ],
   "source": [
    "import sklearn.linear_model as lm\n",
    "model1 = lm.LinearRegression()\n",
    "model1.fit(X_train, Y_train)\n",
    "Y_prediksi = model1.predict(X_test)\n",
    "\n",
    "print(Y_prediksi)"
   ]
  },
  {
   "cell_type": "code",
   "execution_count": 9,
   "metadata": {},
   "outputs": [
    {
     "name": "stdout",
     "output_type": "stream",
     "text": [
      "Akurasi Multiple Linear Regression : 0.607022488597839\n",
      "R_squared Multiple Linear Regression : 0.607022488597839\n",
      "MAE Multiple Linear Regression : 55875518.650916964\n",
      "MSE Multiple Linear Regression : 4673501226381624.0\n",
      "RMSE Multiple Linear Regression : 68363010.65913953\n"
     ]
    }
   ],
   "source": [
    "import sklearn.metrics as met\n",
    "\n",
    "score = model1.score(X_test, Y_test)\n",
    "r_squared = met.r2_score(Y_test, Y_prediksi)\n",
    "MAE = met.mean_absolute_error(Y_test, Y_prediksi)\n",
    "MSE = met.mean_squared_error(Y_test, Y_prediksi)\n",
    "RMSE = np.sqrt(MSE)\n",
    "print(f'Akurasi Multiple Linear Regression : {score}')\n",
    "print(f'R_squared Multiple Linear Regression : {r_squared}')\n",
    "print(f'MAE Multiple Linear Regression : {MAE}')\n",
    "print(f'MSE Multiple Linear Regression : {MSE}')\n",
    "print(f'RMSE Multiple Linear Regression : {RMSE}')"
   ]
  },
  {
   "cell_type": "code",
   "execution_count": 10,
   "metadata": {},
   "outputs": [
    {
     "name": "stdout",
     "output_type": "stream",
     "text": [
      "Estimasi Harga Rumah : [4.64521786e+08]\n"
     ]
    },
    {
     "name": "stderr",
     "output_type": "stream",
     "text": [
      "/Users/indriastutiichsan/anaconda3/lib/python3.11/site-packages/sklearn/base.py:464: UserWarning: X does not have valid feature names, but LinearRegression was fitted with feature names\n",
      "  warnings.warn(\n"
     ]
    }
   ],
   "source": [
    "#house_age=30, distansce_to_MRT=90.10, number_cs = 6, latitude = 24, longitude = 121.54\n",
    "input_data = np.array([[30,90.10,6,24.99,121.54]])\n",
    "\n",
    "prediction = model1.predict(input_data)\n",
    "print(f'Estimasi Harga Rumah :', prediction)"
   ]
  },
  {
   "cell_type": "code",
   "execution_count": 11,
   "metadata": {},
   "outputs": [],
   "source": [
    "import pickle\n",
    "\n",
    "filename = 'estimasi_harga_rumah.sav'\n",
    "pickle.dump(model1,open(filename,'wb'))"
   ]
  }
 ],
 "metadata": {
  "kernelspec": {
   "display_name": "base",
   "language": "python",
   "name": "python3"
  },
  "language_info": {
   "codemirror_mode": {
    "name": "ipython",
    "version": 3
   },
   "file_extension": ".py",
   "mimetype": "text/x-python",
   "name": "python",
   "nbconvert_exporter": "python",
   "pygments_lexer": "ipython3",
   "version": "3.11.5"
  }
 },
 "nbformat": 4,
 "nbformat_minor": 2
}
